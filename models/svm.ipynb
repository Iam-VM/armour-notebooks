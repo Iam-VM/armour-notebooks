{
 "cells": [
  {
   "cell_type": "code",
   "execution_count": 1,
   "id": "00493dc5",
   "metadata": {},
   "outputs": [],
   "source": [
    "import os\n",
    "import pickle as pkl\n",
    "\n",
    "import matplotlib.pyplot as plt\n",
    "import numpy as np\n",
    "import pandas as pd\n",
    "import seaborn as sns\n",
    "\n",
    "from sklearn.base import BaseEstimator, TransformerMixin\n",
    "from sklearn.cluster import AgglomerativeClustering\n",
    "from sklearn.decomposition import PCA\n",
    "from sklearn.impute import SimpleImputer\n",
    "from sklearn.manifold import TSNE\n",
    "from sklearn.pipeline import FeatureUnion\n",
    "from sklearn.pipeline import Pipeline\n",
    "from sklearn.preprocessing import Normalizer\n",
    "from sklearn.preprocessing import OneHotEncoder\n",
    "from sklearn.preprocessing import StandardScaler"
   ]
  },
  {
   "cell_type": "code",
   "execution_count": 2,
   "id": "63d3c5dc",
   "metadata": {},
   "outputs": [],
   "source": [
    "DATASET_ROOT_PATH = '/home/ubuntu/projects/ddos/cicddos_data/core'\n",
    "X_TRAIN_PATH = os.path.join(DATASET_ROOT_PATH, 'X_train.csv')\n",
    "Y_TRAIN_PATH = os.path.join(DATASET_ROOT_PATH, 'Y_train.csv')\n",
    "X_TEST_PATH = os.path.join(DATASET_ROOT_PATH, 'X_test.csv')\n",
    "Y_TEST_PATH = os.path.join(DATASET_ROOT_PATH, 'Y_test.csv')"
   ]
  },
  {
   "cell_type": "code",
   "execution_count": 3,
   "id": "4099a451",
   "metadata": {},
   "outputs": [],
   "source": [
    "X_train = pd.read_csv(X_TRAIN_PATH, low_memory=False)\n",
    "Y_train = pd.read_csv(Y_TRAIN_PATH, low_memory=False)\n",
    "\n",
    "X_test = pd.read_csv(X_TEST_PATH, low_memory=False)\n",
    "Y_test = pd.read_csv(Y_TEST_PATH, low_memory=False)"
   ]
  },
  {
   "cell_type": "code",
   "execution_count": 4,
   "id": "da54b00e",
   "metadata": {},
   "outputs": [],
   "source": [
    "label_cols = ['Label']\n",
    "\n",
    "numeric_cols = ['URG Flag Count', 'Fwd PSH Flags',\n",
    "    'RST Flag Count', 'CWE Flag Count', 'Packet Length Std',\n",
    "    'Init_Win_bytes_forward', 'Fwd Packet Length Std', 'Active Mean',\n",
    "    'Idle Mean', 'Avg Fwd Segment Size',\n",
    "    'Fwd Packet Length Mean', 'Fwd Packets/s', 'Packet Length Mean',\n",
    "    'Average Packet Size', 'Fwd IAT Min', 'Flow Duration',\n",
    "    'Fwd IAT Total', 'Active Std', 'SYN Flag Count', 'Fwd IAT Std', \n",
    "    'Flow IAT Std', 'Subflow Fwd Bytes', 'Total Length of Fwd Packets']\n",
    "\n",
    "categoric_cols = [\n",
    "    'Protocol',\n",
    "    'Inbound'\n",
    "]"
   ]
  },
  {
   "cell_type": "markdown",
   "id": "ec445e6e",
   "metadata": {},
   "source": [
    "## Custom Transformers"
   ]
  },
  {
   "cell_type": "code",
   "execution_count": 5,
   "id": "69fc6265",
   "metadata": {},
   "outputs": [],
   "source": [
    "class DataFrameSelector(BaseEstimator, TransformerMixin):\n",
    "    def __init__(self, col_names):\n",
    "        self.col_names = col_names\n",
    "    def fit(self, X, y=None):\n",
    "        return self\n",
    "    def transform(self, X):\n",
    "        return X[self.col_names].values"
   ]
  },
  {
   "cell_type": "code",
   "execution_count": null,
   "id": "57e8544c",
   "metadata": {},
   "outputs": [],
   "source": []
  },
  {
   "cell_type": "markdown",
   "id": "121255b3",
   "metadata": {},
   "source": [
    "# Pipeline"
   ]
  },
  {
   "cell_type": "markdown",
   "id": "64d2eaf1",
   "metadata": {},
   "source": [
    "#### individual pipelines"
   ]
  },
  {
   "cell_type": "code",
   "execution_count": 6,
   "id": "7384a089",
   "metadata": {},
   "outputs": [],
   "source": [
    "num_pipeline = Pipeline([\n",
    "    ('selector', DataFrameSelector(numeric_cols)),\n",
    "    ('std_scaler', StandardScaler())\n",
    "])"
   ]
  },
  {
   "cell_type": "code",
   "execution_count": 7,
   "id": "e238ce93",
   "metadata": {},
   "outputs": [],
   "source": [
    "cat_pipeline = Pipeline([\n",
    "    ('selector', DataFrameSelector(categoric_cols)),\n",
    "    ('one_hot_encoder', OneHotEncoder(sparse=False))\n",
    "])"
   ]
  },
  {
   "cell_type": "markdown",
   "id": "44c2ae04",
   "metadata": {},
   "source": [
    "#### Feature Union"
   ]
  },
  {
   "cell_type": "code",
   "execution_count": 8,
   "id": "72f528fd",
   "metadata": {},
   "outputs": [],
   "source": [
    "full_pipeline = FeatureUnion(transformer_list=[\n",
    "    ('num_pipeline', num_pipeline),\n",
    "    ('cat_pipeline', cat_pipeline)\n",
    "])"
   ]
  },
  {
   "cell_type": "code",
   "execution_count": null,
   "id": "b7ff56f9",
   "metadata": {},
   "outputs": [],
   "source": []
  },
  {
   "cell_type": "markdown",
   "id": "78028a84",
   "metadata": {},
   "source": [
    "# Run pipeline"
   ]
  },
  {
   "cell_type": "code",
   "execution_count": 9,
   "id": "58232a34",
   "metadata": {},
   "outputs": [],
   "source": [
    "X = full_pipeline.fit_transform(X_train)"
   ]
  },
  {
   "cell_type": "code",
   "execution_count": null,
   "id": "a082b565",
   "metadata": {},
   "outputs": [],
   "source": []
  },
  {
   "cell_type": "markdown",
   "id": "53699ec2",
   "metadata": {},
   "source": [
    "# Train"
   ]
  },
  {
   "cell_type": "code",
   "execution_count": null,
   "id": "bc5febad",
   "metadata": {},
   "outputs": [],
   "source": [
    "from sklearn import svm"
   ]
  },
  {
   "cell_type": "code",
   "execution_count": 12,
   "id": "478d8c6a",
   "metadata": {},
   "outputs": [],
   "source": [
    "svc = svm.SVC()"
   ]
  },
  {
   "cell_type": "code",
   "execution_count": null,
   "id": "5ce3351d",
   "metadata": {},
   "outputs": [],
   "source": [
    "svc.fit(X, Y_train.values.reshape(Y_train.values.shape[0], ))"
   ]
  },
  {
   "cell_type": "code",
   "execution_count": null,
   "id": "0caec6bc",
   "metadata": {},
   "outputs": [],
   "source": []
  },
  {
   "cell_type": "code",
   "execution_count": null,
   "id": "f58e50cb",
   "metadata": {},
   "outputs": [],
   "source": []
  },
  {
   "cell_type": "markdown",
   "id": "7c12f790",
   "metadata": {},
   "source": [
    "# Validation"
   ]
  },
  {
   "cell_type": "markdown",
   "id": "1db9a2eb",
   "metadata": {},
   "source": [
    "#### calculating error"
   ]
  },
  {
   "cell_type": "code",
   "execution_count": null,
   "id": "b9d11cd9",
   "metadata": {},
   "outputs": [],
   "source": [
    "scores = cross_val_score(rf_clf, full_pipeline.fit_transform(X_test), Y_test.values.reshape(Y_test.shape[0], ), \n",
    "                         scoring='neg_mean_squared_error', cv=10)"
   ]
  },
  {
   "cell_type": "code",
   "execution_count": null,
   "id": "af6fb6e4",
   "metadata": {},
   "outputs": [],
   "source": [
    "tree_rmse_scores = np.sqrt(-scores)"
   ]
  },
  {
   "cell_type": "code",
   "execution_count": null,
   "id": "bfc333b8",
   "metadata": {},
   "outputs": [],
   "source": [
    "tree_rmse_scores"
   ]
  },
  {
   "cell_type": "code",
   "execution_count": null,
   "id": "09bdf5bb",
   "metadata": {},
   "outputs": [],
   "source": []
  },
  {
   "cell_type": "markdown",
   "id": "37af18aa",
   "metadata": {},
   "source": [
    "#### Calculating accuracy"
   ]
  },
  {
   "cell_type": "code",
   "execution_count": null,
   "id": "4ec8cf3b",
   "metadata": {},
   "outputs": [],
   "source": [
    "accuracies = cross_val_score(svc, full_pipeline.fit_transform(X_test), Y_test.values.reshape(X_test.shape[0], ), cv=10, scoring='accuracy')\n",
    "print(\"Model Accuracy:\")\n",
    "for i in accuracies:\n",
    "    print(i)"
   ]
  }
 ],
 "metadata": {
  "kernelspec": {
   "display_name": "Python 3 (ipykernel)",
   "language": "python",
   "name": "python3"
  },
  "language_info": {
   "codemirror_mode": {
    "name": "ipython",
    "version": 3
   },
   "file_extension": ".py",
   "mimetype": "text/x-python",
   "name": "python",
   "nbconvert_exporter": "python",
   "pygments_lexer": "ipython3",
   "version": "3.8.10"
  }
 },
 "nbformat": 4,
 "nbformat_minor": 5
}
