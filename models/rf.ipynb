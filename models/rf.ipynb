{
 "cells": [
  {
   "cell_type": "code",
   "execution_count": 2,
   "id": "7fad5087",
   "metadata": {},
   "outputs": [],
   "source": [
    "import os\n",
    "import pickle as pkl\n",
    "\n",
    "import matplotlib.pyplot as plt\n",
    "import numpy as np\n",
    "import pandas as pd\n",
    "import seaborn as sns\n",
    "\n",
    "from sklearn.base import BaseEstimator, TransformerMixin\n",
    "from sklearn.cluster import AgglomerativeClustering\n",
    "from sklearn.decomposition import PCA\n",
    "from sklearn.impute import SimpleImputer\n",
    "from sklearn.model_selection import cross_val_score\n",
    "from sklearn.manifold import TSNE\n",
    "from sklearn.pipeline import FeatureUnion\n",
    "from sklearn.pipeline import Pipeline\n",
    "from sklearn.preprocessing import Normalizer\n",
    "from sklearn.preprocessing import OneHotEncoder\n",
    "from sklearn.preprocessing import StandardScaler"
   ]
  },
  {
   "cell_type": "code",
   "execution_count": 3,
   "id": "e83f653f",
   "metadata": {},
   "outputs": [],
   "source": [
    "DATASET_ROOT_PATH = '/home/ubuntu/projects/ddos/cicddos_data/core'\n",
    "X_TRAIN_PATH = os.path.join(DATASET_ROOT_PATH, 'X_train.csv')\n",
    "Y_TRAIN_PATH = os.path.join(DATASET_ROOT_PATH, 'Y_train.csv')\n",
    "X_TEST_PATH = os.path.join(DATASET_ROOT_PATH, 'X_test.csv')\n",
    "Y_TEST_PATH = os.path.join(DATASET_ROOT_PATH, 'Y_test.csv')"
   ]
  },
  {
   "cell_type": "code",
   "execution_count": 4,
   "id": "29e189ae",
   "metadata": {},
   "outputs": [],
   "source": [
    "X_train = pd.read_csv(X_TRAIN_PATH, low_memory=False)\n",
    "Y_train = pd.read_csv(Y_TRAIN_PATH, low_memory=False)\n",
    "\n",
    "X_test = pd.read_csv(X_TEST_PATH, low_memory=False)\n",
    "Y_test = pd.read_csv(Y_TEST_PATH, low_memory=False)"
   ]
  },
  {
   "cell_type": "code",
   "execution_count": 5,
   "id": "c626276e",
   "metadata": {},
   "outputs": [],
   "source": [
    "label_cols = ['Label']\n",
    "\n",
    "numeric_cols = ['URG Flag Count', 'Fwd PSH Flags',\n",
    "    'RST Flag Count', 'CWE Flag Count', 'Packet Length Std',\n",
    "    'Init_Win_bytes_forward', 'Fwd Packet Length Std', 'Active Mean',\n",
    "    'Idle Mean', 'Avg Fwd Segment Size',\n",
    "    'Fwd Packet Length Mean', 'Fwd Packets/s', 'Packet Length Mean',\n",
    "    'Average Packet Size', 'Fwd IAT Min', 'Flow Duration',\n",
    "    'Fwd IAT Total', 'Active Std', 'SYN Flag Count', 'Fwd IAT Std', \n",
    "    'Flow IAT Std', 'Subflow Fwd Bytes', 'Total Length of Fwd Packets']\n",
    "\n",
    "categoric_cols = [\n",
    "    'Protocol',\n",
    "    'Inbound'\n",
    "]"
   ]
  },
  {
   "cell_type": "markdown",
   "id": "ae9726b5",
   "metadata": {},
   "source": [
    "## Custom Transformers"
   ]
  },
  {
   "cell_type": "code",
   "execution_count": 6,
   "id": "ca3d9c19",
   "metadata": {},
   "outputs": [],
   "source": [
    "class DataFrameSelector(BaseEstimator, TransformerMixin):\n",
    "    def __init__(self, col_names):\n",
    "        self.col_names = col_names\n",
    "    def fit(self, X, y=None):\n",
    "        return self\n",
    "    def transform(self, X):\n",
    "        return X[self.col_names].values"
   ]
  },
  {
   "cell_type": "code",
   "execution_count": null,
   "id": "6edbf7c9",
   "metadata": {},
   "outputs": [],
   "source": []
  },
  {
   "cell_type": "markdown",
   "id": "74bbc779",
   "metadata": {},
   "source": [
    "# Pipeline"
   ]
  },
  {
   "cell_type": "markdown",
   "id": "31715518",
   "metadata": {},
   "source": [
    "#### individual pipelines"
   ]
  },
  {
   "cell_type": "code",
   "execution_count": 7,
   "id": "5f63f4fe",
   "metadata": {},
   "outputs": [],
   "source": [
    "num_pipeline = Pipeline([\n",
    "    ('selector', DataFrameSelector(numeric_cols)),\n",
    "    ('std_scaler', StandardScaler())\n",
    "])"
   ]
  },
  {
   "cell_type": "code",
   "execution_count": 8,
   "id": "33f94c0b",
   "metadata": {},
   "outputs": [],
   "source": [
    "cat_pipeline = Pipeline([\n",
    "    ('selector', DataFrameSelector(categoric_cols)),\n",
    "    ('one_hot_encoder', OneHotEncoder(sparse=False))\n",
    "])"
   ]
  },
  {
   "cell_type": "markdown",
   "id": "11c69a2b",
   "metadata": {},
   "source": [
    "#### Feature Union"
   ]
  },
  {
   "cell_type": "code",
   "execution_count": 9,
   "id": "414bcd5b",
   "metadata": {},
   "outputs": [],
   "source": [
    "full_pipeline = FeatureUnion(transformer_list=[\n",
    "    ('num_pipeline', num_pipeline),\n",
    "    ('cat_pipeline', cat_pipeline)\n",
    "])"
   ]
  },
  {
   "cell_type": "code",
   "execution_count": null,
   "id": "0d8130b2",
   "metadata": {},
   "outputs": [],
   "source": []
  },
  {
   "cell_type": "markdown",
   "id": "a08ab3c4",
   "metadata": {},
   "source": [
    "# Run pipeline"
   ]
  },
  {
   "cell_type": "code",
   "execution_count": 10,
   "id": "71a63367",
   "metadata": {},
   "outputs": [],
   "source": [
    "X = full_pipeline.fit_transform(X_train)"
   ]
  },
  {
   "cell_type": "code",
   "execution_count": null,
   "id": "0b655a6f",
   "metadata": {},
   "outputs": [],
   "source": []
  },
  {
   "cell_type": "markdown",
   "id": "ccf2d082",
   "metadata": {},
   "source": [
    "# Train"
   ]
  },
  {
   "cell_type": "code",
   "execution_count": 20,
   "id": "ace4aeae",
   "metadata": {},
   "outputs": [],
   "source": [
    "from sklearn.ensemble import RandomForestClassifier"
   ]
  },
  {
   "cell_type": "code",
   "execution_count": 21,
   "id": "eb4c4c5b",
   "metadata": {},
   "outputs": [],
   "source": [
    "rf_clf = RandomForestClassifier()"
   ]
  },
  {
   "cell_type": "code",
   "execution_count": 22,
   "id": "a785af12",
   "metadata": {},
   "outputs": [
    {
     "data": {
      "text/plain": [
       "RandomForestClassifier()"
      ]
     },
     "execution_count": 22,
     "metadata": {},
     "output_type": "execute_result"
    }
   ],
   "source": [
    "rf_clf.fit(X, Y_train.values.reshape(Y_train.values.shape[0], ))"
   ]
  },
  {
   "cell_type": "code",
   "execution_count": null,
   "id": "7eb250e2",
   "metadata": {},
   "outputs": [],
   "source": []
  },
  {
   "cell_type": "markdown",
   "id": "e0137f52",
   "metadata": {},
   "source": [
    "# Validation"
   ]
  },
  {
   "cell_type": "markdown",
   "id": "82401880",
   "metadata": {},
   "source": [
    "#### calculating error"
   ]
  },
  {
   "cell_type": "code",
   "execution_count": 14,
   "id": "ae61b65c",
   "metadata": {},
   "outputs": [],
   "source": [
    "scores = cross_val_score(rf_clf, full_pipeline.fit_transform(X_test), Y_test.values.reshape(Y_test.shape[0], ), \n",
    "                         scoring='neg_mean_squared_error', cv=10)"
   ]
  },
  {
   "cell_type": "code",
   "execution_count": 15,
   "id": "c34edbc6",
   "metadata": {},
   "outputs": [],
   "source": [
    "tree_rmse_scores = np.sqrt(-scores)"
   ]
  },
  {
   "cell_type": "code",
   "execution_count": 16,
   "id": "7184ea07",
   "metadata": {},
   "outputs": [
    {
     "data": {
      "text/plain": [
       "array([0.02132007, 0.02132007, 0.02132007, 0.        , 0.        ,\n",
       "       0.        , 0.        , 0.        , 0.03015113, 0.        ])"
      ]
     },
     "execution_count": 16,
     "metadata": {},
     "output_type": "execute_result"
    }
   ],
   "source": [
    "tree_rmse_scores"
   ]
  },
  {
   "cell_type": "code",
   "execution_count": null,
   "id": "6f1100f6",
   "metadata": {},
   "outputs": [],
   "source": []
  },
  {
   "cell_type": "markdown",
   "id": "904c0605",
   "metadata": {},
   "source": [
    "#### calculating accuracy"
   ]
  },
  {
   "cell_type": "code",
   "execution_count": 18,
   "id": "f646cbf5",
   "metadata": {},
   "outputs": [
    {
     "name": "stdout",
     "output_type": "stream",
     "text": [
      "Model Accuracy:\n",
      "0.9995454545454545\n",
      "0.9995454545454545\n",
      "0.9995454545454545\n",
      "1.0\n",
      "1.0\n",
      "1.0\n",
      "1.0\n",
      "0.9995454545454545\n",
      "0.9986363636363637\n",
      "1.0\n"
     ]
    }
   ],
   "source": [
    "accuracies = cross_val_score(rf_clf, full_pipeline.fit_transform(X_test), Y_test.values.reshape(X_test.shape[0], ), cv=10, scoring='accuracy')\n",
    "print(\"Model Accuracy:\")\n",
    "for i in accuracies:\n",
    "    print(i)"
   ]
  },
  {
   "cell_type": "code",
   "execution_count": 19,
   "id": "1ade4ebf",
   "metadata": {},
   "outputs": [
    {
     "name": "stdout",
     "output_type": "stream",
     "text": [
      "Model Accuracy:\n",
      "0.9999863636363636\n",
      "0.9999636363636364\n",
      "0.9999772727272728\n",
      "0.9999681818181818\n",
      "0.999990909090909\n",
      "0.9999681818181818\n",
      "0.9999818181818182\n",
      "0.9999363636363636\n",
      "0.99995\n",
      "0.9999\n"
     ]
    }
   ],
   "source": [
    "accuracies = cross_val_score(rf_clf, X, Y_train.values.reshape(Y_train.shape[0], ), cv=10, scoring='accuracy')\n",
    "print(\"Model Accuracy:\")\n",
    "for i in accuracies:\n",
    "    print(i)"
   ]
  },
  {
   "cell_type": "code",
   "execution_count": null,
   "id": "ba4df712",
   "metadata": {},
   "outputs": [],
   "source": []
  },
  {
   "cell_type": "code",
   "execution_count": null,
   "id": "17987ca3",
   "metadata": {},
   "outputs": [],
   "source": []
  },
  {
   "cell_type": "markdown",
   "id": "ed5700f9",
   "metadata": {},
   "source": [
    "# Pickling the model"
   ]
  },
  {
   "cell_type": "code",
   "execution_count": 23,
   "id": "f1ab5ef5",
   "metadata": {},
   "outputs": [],
   "source": [
    "MODEL_PICKLE_ROOT = '/home/ubuntu/projects/ddos/pkls/models'\n",
    "\n",
    "PICKLE_FILE_PATH = os.path.join(MODEL_PICKLE_ROOT, 'rf_28.pkl')"
   ]
  },
  {
   "cell_type": "code",
   "execution_count": 24,
   "id": "556daf48",
   "metadata": {},
   "outputs": [],
   "source": [
    "with open(PICKLE_FILE_PATH, 'wb') as f:\n",
    "    pkl.dump(rf_clf, f)"
   ]
  },
  {
   "cell_type": "code",
   "execution_count": null,
   "id": "7ea146a5",
   "metadata": {},
   "outputs": [],
   "source": []
  }
 ],
 "metadata": {
  "kernelspec": {
   "display_name": "Python 3 (ipykernel)",
   "language": "python",
   "name": "python3"
  },
  "language_info": {
   "codemirror_mode": {
    "name": "ipython",
    "version": 3
   },
   "file_extension": ".py",
   "mimetype": "text/x-python",
   "name": "python",
   "nbconvert_exporter": "python",
   "pygments_lexer": "ipython3",
   "version": "3.8.10"
  }
 },
 "nbformat": 4,
 "nbformat_minor": 5
}
