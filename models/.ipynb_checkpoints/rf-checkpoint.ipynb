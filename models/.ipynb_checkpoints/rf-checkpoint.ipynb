{
 "cells": [
  {
   "cell_type": "code",
   "execution_count": 15,
   "id": "7fad5087",
   "metadata": {},
   "outputs": [],
   "source": [
    "import os\n",
    "import pickle as pkl\n",
    "\n",
    "import matplotlib.pyplot as plt\n",
    "import numpy as np\n",
    "import pandas as pd\n",
    "import seaborn as sns\n",
    "\n",
    "from sklearn.base import BaseEstimator, TransformerMixin\n",
    "from sklearn.cluster import AgglomerativeClustering\n",
    "from sklearn.decomposition import PCA\n",
    "from sklearn.impute import SimpleImputer\n",
    "from sklearn.model_selection import cross_val_score\n",
    "from sklearn.manifold import TSNE\n",
    "from sklearn.pipeline import FeatureUnion\n",
    "from sklearn.pipeline import Pipeline\n",
    "from sklearn.preprocessing import Normalizer\n",
    "from sklearn.preprocessing import OneHotEncoder\n",
    "from sklearn.preprocessing import StandardScaler"
   ]
  },
  {
   "cell_type": "code",
   "execution_count": 2,
   "id": "e83f653f",
   "metadata": {},
   "outputs": [],
   "source": [
    "DATASET_ROOT_PATH = '/home/ubuntu/projects/ddos/cicddos_data/core'\n",
    "X_TRAIN_PATH = os.path.join(DATASET_ROOT_PATH, 'X_train.csv')\n",
    "Y_TRAIN_PATH = os.path.join(DATASET_ROOT_PATH, 'Y_train.csv')\n",
    "X_TEST_PATH = os.path.join(DATASET_ROOT_PATH, 'X_test.csv')\n",
    "Y_TEST_PATH = os.path.join(DATASET_ROOT_PATH, 'Y_test.csv')"
   ]
  },
  {
   "cell_type": "code",
   "execution_count": 3,
   "id": "29e189ae",
   "metadata": {},
   "outputs": [],
   "source": [
    "X_train = pd.read_csv(X_TRAIN_PATH, low_memory=False)\n",
    "Y_train = pd.read_csv(Y_TRAIN_PATH, low_memory=False)\n",
    "\n",
    "X_test = pd.read_csv(X_TEST_PATH, low_memory=False)\n",
    "Y_test = pd.read_csv(Y_TEST_PATH, low_memory=False)"
   ]
  },
  {
   "cell_type": "code",
   "execution_count": 4,
   "id": "c626276e",
   "metadata": {},
   "outputs": [],
   "source": [
    "label_cols = ['Label']\n",
    "\n",
    "numeric_cols = ['URG Flag Count', 'Fwd PSH Flags',\n",
    "    'RST Flag Count', 'CWE Flag Count', 'Packet Length Std',\n",
    "    'Init_Win_bytes_forward', 'Fwd Packet Length Std', 'Active Mean',\n",
    "    'Idle Mean', 'Avg Fwd Segment Size',\n",
    "    'Fwd Packet Length Mean', 'Fwd Packets/s', 'Packet Length Mean',\n",
    "    'Average Packet Size', 'Fwd IAT Min', 'Flow Duration',\n",
    "    'Fwd IAT Total', 'Active Std', 'SYN Flag Count', 'Fwd IAT Std', \n",
    "    'Flow IAT Std', 'Subflow Fwd Bytes', 'Total Length of Fwd Packets']\n",
    "\n",
    "categoric_cols = [\n",
    "    'Protocol',\n",
    "    'Inbound'\n",
    "]"
   ]
  },
  {
   "cell_type": "markdown",
   "id": "ae9726b5",
   "metadata": {},
   "source": [
    "## Custom Transformers"
   ]
  },
  {
   "cell_type": "code",
   "execution_count": 5,
   "id": "ca3d9c19",
   "metadata": {},
   "outputs": [],
   "source": [
    "class DataFrameSelector(BaseEstimator, TransformerMixin):\n",
    "    def __init__(self, col_names):\n",
    "        self.col_names = col_names\n",
    "    def fit(self, X, y=None):\n",
    "        return self\n",
    "    def transform(self, X):\n",
    "        return X[self.col_names].values"
   ]
  },
  {
   "cell_type": "code",
   "execution_count": null,
   "id": "6edbf7c9",
   "metadata": {},
   "outputs": [],
   "source": []
  },
  {
   "cell_type": "markdown",
   "id": "74bbc779",
   "metadata": {},
   "source": [
    "# Pipeline"
   ]
  },
  {
   "cell_type": "markdown",
   "id": "31715518",
   "metadata": {},
   "source": [
    "#### individual pipelines"
   ]
  },
  {
   "cell_type": "code",
   "execution_count": 6,
   "id": "5f63f4fe",
   "metadata": {},
   "outputs": [],
   "source": [
    "num_pipeline = Pipeline([\n",
    "    ('selector', DataFrameSelector(numeric_cols)),\n",
    "    ('std_scaler', StandardScaler())\n",
    "])"
   ]
  },
  {
   "cell_type": "code",
   "execution_count": 7,
   "id": "33f94c0b",
   "metadata": {},
   "outputs": [],
   "source": [
    "cat_pipeline = Pipeline([\n",
    "    ('selector', DataFrameSelector(categoric_cols)),\n",
    "    ('one_hot_encoder', OneHotEncoder(sparse=False))\n",
    "])"
   ]
  },
  {
   "cell_type": "markdown",
   "id": "11c69a2b",
   "metadata": {},
   "source": [
    "#### Feature Union"
   ]
  },
  {
   "cell_type": "code",
   "execution_count": 8,
   "id": "414bcd5b",
   "metadata": {},
   "outputs": [],
   "source": [
    "full_pipeline = FeatureUnion(transformer_list=[\n",
    "    ('num_pipeline', num_pipeline),\n",
    "    ('cat_pipeline', cat_pipeline)\n",
    "])"
   ]
  },
  {
   "cell_type": "code",
   "execution_count": null,
   "id": "0d8130b2",
   "metadata": {},
   "outputs": [],
   "source": []
  },
  {
   "cell_type": "markdown",
   "id": "a08ab3c4",
   "metadata": {},
   "source": [
    "# Run pipeline"
   ]
  },
  {
   "cell_type": "code",
   "execution_count": 9,
   "id": "71a63367",
   "metadata": {},
   "outputs": [],
   "source": [
    "X = full_pipeline.fit_transform(X_train)"
   ]
  },
  {
   "cell_type": "code",
   "execution_count": null,
   "id": "0b655a6f",
   "metadata": {},
   "outputs": [],
   "source": []
  },
  {
   "cell_type": "markdown",
   "id": "ccf2d082",
   "metadata": {},
   "source": [
    "# Train"
   ]
  },
  {
   "cell_type": "code",
   "execution_count": 10,
   "id": "ace4aeae",
   "metadata": {},
   "outputs": [],
   "source": [
    "from sklearn.tree import DecisionTreeClassifier"
   ]
  },
  {
   "cell_type": "code",
   "execution_count": 11,
   "id": "eb4c4c5b",
   "metadata": {},
   "outputs": [],
   "source": [
    "dtree_clf = DecisionTreeClassifier()"
   ]
  },
  {
   "cell_type": "code",
   "execution_count": 12,
   "id": "a785af12",
   "metadata": {},
   "outputs": [
    {
     "data": {
      "text/plain": [
       "DecisionTreeClassifier()"
      ]
     },
     "execution_count": 12,
     "metadata": {},
     "output_type": "execute_result"
    }
   ],
   "source": [
    "dtree_clf.fit(X, Y_train.values.reshape(Y_train.values.shape[0], ))"
   ]
  },
  {
   "cell_type": "code",
   "execution_count": null,
   "id": "7eb250e2",
   "metadata": {},
   "outputs": [],
   "source": []
  },
  {
   "cell_type": "markdown",
   "id": "e0137f52",
   "metadata": {},
   "source": [
    "# Validation"
   ]
  },
  {
   "cell_type": "code",
   "execution_count": 16,
   "id": "ae61b65c",
   "metadata": {},
   "outputs": [],
   "source": [
    "scores = cross_val_score(dtree_clf, full_pipeline.fit_transform(X_test), Y_test.values.reshape(Y_test.shape[0], ), \n",
    "                         scoring='neg_mean_squared_error', cv=10)"
   ]
  },
  {
   "cell_type": "code",
   "execution_count": 17,
   "id": "c34edbc6",
   "metadata": {},
   "outputs": [],
   "source": [
    "tree_rmse_scores = np.sqrt(-scores)"
   ]
  },
  {
   "cell_type": "code",
   "execution_count": 18,
   "id": "7184ea07",
   "metadata": {},
   "outputs": [
    {
     "data": {
      "text/plain": [
       "array([0.02132007, 0.02132007, 0.        , 0.        , 0.        ,\n",
       "       0.        , 0.        , 0.03015113, 0.03015113, 0.        ])"
      ]
     },
     "execution_count": 18,
     "metadata": {},
     "output_type": "execute_result"
    }
   ],
   "source": [
    "tree_rmse_scores"
   ]
  },
  {
   "cell_type": "code",
   "execution_count": null,
   "id": "0e2daf67",
   "metadata": {},
   "outputs": [],
   "source": []
  }
 ],
 "metadata": {
  "kernelspec": {
   "display_name": "Python 3 (ipykernel)",
   "language": "python",
   "name": "python3"
  },
  "language_info": {
   "codemirror_mode": {
    "name": "ipython",
    "version": 3
   },
   "file_extension": ".py",
   "mimetype": "text/x-python",
   "name": "python",
   "nbconvert_exporter": "python",
   "pygments_lexer": "ipython3",
   "version": "3.8.10"
  }
 },
 "nbformat": 4,
 "nbformat_minor": 5
}
